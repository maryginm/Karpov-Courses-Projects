{
 "cells": [
  {
   "cell_type": "code",
   "execution_count": 78,
   "id": "7d1d0eb1-842d-46a4-abb7-66a4d1f67804",
   "metadata": {},
   "outputs": [],
   "source": [
    "import time\n",
    "import pandas as pd\n",
    "import seaborn as sns\n",
    "import pandahouse\n",
    "from scipy.stats import ttest_ind\n",
    "from scipy.stats import shapiro"
   ]
  },
  {
   "cell_type": "markdown",
   "id": "6fb98618-c35d-494c-aec1-e357bf9dfe33",
   "metadata": {},
   "source": [
    "<b>Задание часть 1</b>\n",
    "\n",
    "Итак, что нужно сделать: у нас есть данные А/А-теста с '2023-07-23' по '2023-07-29'. Вам нужно сделать симуляцию, как будто мы провели 10000 А/А-тестов. На каждой итерации вам нужно сформировать подвыборки без повторения в 500 юзеров из 2 и 3 экспериментальной группы. Провести сравнение этих подвыборок t-testом.\n",
    "\n",
    "1. Построить гистограмму распределения получившихся 10000 p-values.\n",
    "\n",
    "2. Посчитать, какой процент p values оказался меньше либо равен 0.05\n",
    "\n",
    "3. Написать вывод по проведенному А/А-тесту, корректно ли работает наша система сплитования.\n",
    "\n",
    "4. Пришлите ссылку на merge request c проведенным анализом."
   ]
  },
  {
   "cell_type": "markdown",
   "id": "a50d8a33-57ed-495c-8921-ee855d5dd2ef",
   "metadata": {},
   "source": [
    "---------------"
   ]
  },
  {
   "cell_type": "markdown",
   "id": "3f62f6ff-3ebb-46c4-b4dd-2b7a1280de7f",
   "metadata": {},
   "source": [
    "<h4>\n",
    "Для начала выгружаем данные из базы (подсчет CTR сделаем при выгрузке)\n",
    "    \n",
    "Рассмотрим данные подробнее и проведем АА тест на полных группах 2 и 3\n",
    "</h4>"
   ]
  },
  {
   "cell_type": "code",
   "execution_count": 26,
   "id": "f19c32b3-6a30-473c-b53d-7fd56c22dc4d",
   "metadata": {},
   "outputs": [],
   "source": [
    "# Соединение с базой\n",
    "\n",
    "connection = {\n",
    "    'host': 'https://clickhouse',\n",
    "    'password': 'pass',\n",
    "    'user': 'user',\n",
    "    'database': 'db'\n",
    "}\n",
    "\n",
    "q = '''\n",
    "SELECT \n",
    "user_id,\n",
    "exp_group,\n",
    "countIf(action, action='like')/countIf(action, action='view') as CTR\n",
    "\n",
    "FROM simulator_20230820.feed_actions \n",
    "WHERE \n",
    "toDate(time) >= '2023-07-23' and toDate(time) <= '2023-07-29'\n",
    "AND\n",
    "exp_group in (2, 3)\n",
    "GROUP BY\n",
    "user_id, exp_group\n",
    "'''\n",
    "\n",
    "df_users = pandahouse.read_clickhouse(q, connection=connection) "
   ]
  },
  {
   "cell_type": "code",
   "execution_count": 27,
   "id": "54a121ee-f8a8-4c3f-87b4-19162d7951b9",
   "metadata": {},
   "outputs": [
    {
     "data": {
      "text/html": [
       "<div>\n",
       "<style scoped>\n",
       "    .dataframe tbody tr th:only-of-type {\n",
       "        vertical-align: middle;\n",
       "    }\n",
       "\n",
       "    .dataframe tbody tr th {\n",
       "        vertical-align: top;\n",
       "    }\n",
       "\n",
       "    .dataframe thead th {\n",
       "        text-align: right;\n",
       "    }\n",
       "</style>\n",
       "<table border=\"1\" class=\"dataframe\">\n",
       "  <thead>\n",
       "    <tr style=\"text-align: right;\">\n",
       "      <th></th>\n",
       "      <th>user_id</th>\n",
       "      <th>exp_group</th>\n",
       "      <th>CTR</th>\n",
       "    </tr>\n",
       "  </thead>\n",
       "  <tbody>\n",
       "    <tr>\n",
       "      <th>0</th>\n",
       "      <td>115383</td>\n",
       "      <td>3</td>\n",
       "      <td>0.153226</td>\n",
       "    </tr>\n",
       "    <tr>\n",
       "      <th>1</th>\n",
       "      <td>10326</td>\n",
       "      <td>3</td>\n",
       "      <td>0.181818</td>\n",
       "    </tr>\n",
       "    <tr>\n",
       "      <th>2</th>\n",
       "      <td>123580</td>\n",
       "      <td>3</td>\n",
       "      <td>0.204918</td>\n",
       "    </tr>\n",
       "    <tr>\n",
       "      <th>3</th>\n",
       "      <td>131473</td>\n",
       "      <td>2</td>\n",
       "      <td>0.193878</td>\n",
       "    </tr>\n",
       "    <tr>\n",
       "      <th>4</th>\n",
       "      <td>23985</td>\n",
       "      <td>2</td>\n",
       "      <td>0.272727</td>\n",
       "    </tr>\n",
       "  </tbody>\n",
       "</table>\n",
       "</div>"
      ],
      "text/plain": [
       "   user_id  exp_group       CTR\n",
       "0   115383          3  0.153226\n",
       "1    10326          3  0.181818\n",
       "2   123580          3  0.204918\n",
       "3   131473          2  0.193878\n",
       "4    23985          2  0.272727"
      ]
     },
     "execution_count": 27,
     "metadata": {},
     "output_type": "execute_result"
    }
   ],
   "source": [
    "# Смотрим что загрузили\n",
    "df_users.head()"
   ]
  },
  {
   "cell_type": "code",
   "execution_count": 28,
   "id": "a42b6c49-7697-4fe6-b7e2-54d6f5188c8b",
   "metadata": {},
   "outputs": [
    {
     "data": {
      "text/html": [
       "<div>\n",
       "<style scoped>\n",
       "    .dataframe tbody tr th:only-of-type {\n",
       "        vertical-align: middle;\n",
       "    }\n",
       "\n",
       "    .dataframe tbody tr th {\n",
       "        vertical-align: top;\n",
       "    }\n",
       "\n",
       "    .dataframe thead th {\n",
       "        text-align: right;\n",
       "    }\n",
       "</style>\n",
       "<table border=\"1\" class=\"dataframe\">\n",
       "  <thead>\n",
       "    <tr style=\"text-align: right;\">\n",
       "      <th></th>\n",
       "      <th>user_id</th>\n",
       "      <th>exp_group</th>\n",
       "      <th>CTR</th>\n",
       "    </tr>\n",
       "  </thead>\n",
       "  <tbody>\n",
       "    <tr>\n",
       "      <th>count</th>\n",
       "      <td>8362.000000</td>\n",
       "      <td>8362.0</td>\n",
       "      <td>8362.000000</td>\n",
       "    </tr>\n",
       "    <tr>\n",
       "      <th>mean</th>\n",
       "      <td>70165.438531</td>\n",
       "      <td>2.0</td>\n",
       "      <td>0.220207</td>\n",
       "    </tr>\n",
       "    <tr>\n",
       "      <th>std</th>\n",
       "      <td>53364.413044</td>\n",
       "      <td>0.0</td>\n",
       "      <td>0.083804</td>\n",
       "    </tr>\n",
       "    <tr>\n",
       "      <th>min</th>\n",
       "      <td>220.000000</td>\n",
       "      <td>2.0</td>\n",
       "      <td>0.000000</td>\n",
       "    </tr>\n",
       "    <tr>\n",
       "      <th>25%</th>\n",
       "      <td>16024.000000</td>\n",
       "      <td>2.0</td>\n",
       "      <td>0.166667</td>\n",
       "    </tr>\n",
       "    <tr>\n",
       "      <th>50%</th>\n",
       "      <td>107968.000000</td>\n",
       "      <td>2.0</td>\n",
       "      <td>0.206522</td>\n",
       "    </tr>\n",
       "    <tr>\n",
       "      <th>75%</th>\n",
       "      <td>121473.750000</td>\n",
       "      <td>2.0</td>\n",
       "      <td>0.260870</td>\n",
       "    </tr>\n",
       "    <tr>\n",
       "      <th>max</th>\n",
       "      <td>133392.000000</td>\n",
       "      <td>2.0</td>\n",
       "      <td>0.700000</td>\n",
       "    </tr>\n",
       "  </tbody>\n",
       "</table>\n",
       "</div>"
      ],
      "text/plain": [
       "             user_id  exp_group          CTR\n",
       "count    8362.000000     8362.0  8362.000000\n",
       "mean    70165.438531        2.0     0.220207\n",
       "std     53364.413044        0.0     0.083804\n",
       "min       220.000000        2.0     0.000000\n",
       "25%     16024.000000        2.0     0.166667\n",
       "50%    107968.000000        2.0     0.206522\n",
       "75%    121473.750000        2.0     0.260870\n",
       "max    133392.000000        2.0     0.700000"
      ]
     },
     "execution_count": 28,
     "metadata": {},
     "output_type": "execute_result"
    }
   ],
   "source": [
    "# Смотрим на точечные оценки 2 исследуемых групп\n",
    "df_users[df_users['exp_group'] == 2].describe()"
   ]
  },
  {
   "cell_type": "code",
   "execution_count": 29,
   "id": "f52be6a6-c958-409e-a561-a9b7fefc6518",
   "metadata": {},
   "outputs": [
    {
     "data": {
      "text/html": [
       "<div>\n",
       "<style scoped>\n",
       "    .dataframe tbody tr th:only-of-type {\n",
       "        vertical-align: middle;\n",
       "    }\n",
       "\n",
       "    .dataframe tbody tr th {\n",
       "        vertical-align: top;\n",
       "    }\n",
       "\n",
       "    .dataframe thead th {\n",
       "        text-align: right;\n",
       "    }\n",
       "</style>\n",
       "<table border=\"1\" class=\"dataframe\">\n",
       "  <thead>\n",
       "    <tr style=\"text-align: right;\">\n",
       "      <th></th>\n",
       "      <th>user_id</th>\n",
       "      <th>exp_group</th>\n",
       "      <th>CTR</th>\n",
       "    </tr>\n",
       "  </thead>\n",
       "  <tbody>\n",
       "    <tr>\n",
       "      <th>count</th>\n",
       "      <td>8425.000000</td>\n",
       "      <td>8425.0</td>\n",
       "      <td>8425.000000</td>\n",
       "    </tr>\n",
       "    <tr>\n",
       "      <th>mean</th>\n",
       "      <td>70922.573412</td>\n",
       "      <td>3.0</td>\n",
       "      <td>0.219357</td>\n",
       "    </tr>\n",
       "    <tr>\n",
       "      <th>std</th>\n",
       "      <td>53138.044904</td>\n",
       "      <td>0.0</td>\n",
       "      <td>0.082558</td>\n",
       "    </tr>\n",
       "    <tr>\n",
       "      <th>min</th>\n",
       "      <td>215.000000</td>\n",
       "      <td>3.0</td>\n",
       "      <td>0.000000</td>\n",
       "    </tr>\n",
       "    <tr>\n",
       "      <th>25%</th>\n",
       "      <td>16332.000000</td>\n",
       "      <td>3.0</td>\n",
       "      <td>0.166667</td>\n",
       "    </tr>\n",
       "    <tr>\n",
       "      <th>50%</th>\n",
       "      <td>108455.000000</td>\n",
       "      <td>3.0</td>\n",
       "      <td>0.207317</td>\n",
       "    </tr>\n",
       "    <tr>\n",
       "      <th>75%</th>\n",
       "      <td>121478.000000</td>\n",
       "      <td>3.0</td>\n",
       "      <td>0.260870</td>\n",
       "    </tr>\n",
       "    <tr>\n",
       "      <th>max</th>\n",
       "      <td>133388.000000</td>\n",
       "      <td>3.0</td>\n",
       "      <td>0.769231</td>\n",
       "    </tr>\n",
       "  </tbody>\n",
       "</table>\n",
       "</div>"
      ],
      "text/plain": [
       "             user_id  exp_group          CTR\n",
       "count    8425.000000     8425.0  8425.000000\n",
       "mean    70922.573412        3.0     0.219357\n",
       "std     53138.044904        0.0     0.082558\n",
       "min       215.000000        3.0     0.000000\n",
       "25%     16332.000000        3.0     0.166667\n",
       "50%    108455.000000        3.0     0.207317\n",
       "75%    121478.000000        3.0     0.260870\n",
       "max    133388.000000        3.0     0.769231"
      ]
     },
     "execution_count": 29,
     "metadata": {},
     "output_type": "execute_result"
    }
   ],
   "source": [
    "df_users[df_users['exp_group'] == 3].describe()"
   ]
  },
  {
   "cell_type": "code",
   "execution_count": 30,
   "id": "2a291312-55ee-4d91-ae40-af5d07febbea",
   "metadata": {},
   "outputs": [
    {
     "data": {
      "image/png": "[encoded data removed]",
      "text/plain": [
       "<Figure size 864x720 with 1 Axes>"
      ]
     },
     "metadata": {},
     "output_type": "display_data"
    }
   ],
   "source": [
    "# Визуализируем распределение частот 2 групп\n",
    "sns.set (rc={\"figure.figsize\":( 12 , 10 )})\n",
    "group_2 = sns.histplot(df_users[df_users['exp_group'] == 2]['CTR'], kde=True)"
   ]
  },
  {
   "cell_type": "code",
   "execution_count": 31,
   "id": "f820bce9-a461-484c-8de4-c560cb4a54e4",
   "metadata": {},
   "outputs": [
    {
     "data": {
      "image/png": "[encoded data removed]",
      "text/plain": [
       "<Figure size 864x720 with 1 Axes>"
      ]
     },
     "metadata": {},
     "output_type": "display_data"
    }
   ],
   "source": [
    "group_3 = sns.histplot(df_users[df_users['exp_group'] == 3]['CTR'], kde=True)"
   ]
  },
  {
   "cell_type": "code",
   "execution_count": 32,
   "id": "ad05bcf4-6ac5-4627-949e-07959eda3ceb",
   "metadata": {},
   "outputs": [
    {
     "data": {
      "image/png": "[encoded data removed]",
      "text/plain": [
       "<Figure size 864x720 with 1 Axes>"
      ]
     },
     "metadata": {},
     "output_type": "display_data"
    }
   ],
   "source": [
    "groups = sns.histplot(data = df_users, x = 'CTR', hue='exp_group')"
   ]
  },
  {
   "cell_type": "markdown",
   "id": "76d48b53-7cbe-4ec1-bbac-39f4c6c99bed",
   "metadata": {},
   "source": [
    "Предварительные выводы на основе визуального анализа:\n",
    "\n",
    "   > - 2 группы различаются средними значениями из-за наличия выбросов\n",
    "   > - Оба распределения смещены к нулю (положительное смщение - среднее больше моды)\n",
    "    \n",
    "<b>Замечание: Распределение похоже на нормальное по форме Т-тест обычно корректно отрабатывает на таких выборках не смотря на то, что тест на нормальность прокрашивается</b>"
   ]
  },
  {
   "cell_type": "code",
   "execution_count": 35,
   "id": "12ff0661-50cf-4ec4-9e33-473d7e9349b0",
   "metadata": {},
   "outputs": [
    {
     "data": {
      "text/plain": [
       "(ShapiroResult(statistic=0.9518260359764099, pvalue=0.0),\n",
       " ShapiroResult(statistic=0.9473466873168945, pvalue=0.0))"
      ]
     },
     "execution_count": 35,
     "metadata": {},
     "output_type": "execute_result"
    }
   ],
   "source": [
    "# Для наглядности запустим тест шапиро-уилка\n",
    "shapiro(df_users[df_users['exp_group'] == 3]['CTR']), shapiro(df_users[df_users['exp_group'] == 2]['CTR'])\n"
   ]
  },
  {
   "cell_type": "markdown",
   "id": "2f53b20c-39e8-4a9d-878e-d825bd6acc95",
   "metadata": {},
   "source": [
    "Тест на нормальность прокрасился - такое часто бывает с большим набором данных, чем больше выборка тем реже она будет соответствовать формальным кретериям нормальности"
   ]
  },
  {
   "cell_type": "code",
   "execution_count": 8,
   "id": "52fce7ee-58a7-4bab-a80d-ccde63fd9157",
   "metadata": {},
   "outputs": [],
   "source": [
    "# Сохраним отдельно серии из датафрейма\n",
    "ctr_3 = df_users[df_users['exp_group'] == 3]['CTR']\n",
    "ctr_2 = df_users[df_users['exp_group'] == 2]['CTR']"
   ]
  },
  {
   "cell_type": "code",
   "execution_count": 15,
   "id": "e285b13c-7c2d-4761-88d9-bc6cf935c218",
   "metadata": {},
   "outputs": [
    {
     "data": {
      "text/plain": [
       "Ttest_indResult(statistic=0.6617303509169986, pvalue=0.508153138292614)"
      ]
     },
     "execution_count": 15,
     "metadata": {},
     "output_type": "execute_result"
    }
   ],
   "source": [
    "# Проводим Т-тест, Нульевая гипотеза = о равенстве средних значения\n",
    "\n",
    "base_test = ttest_ind(ctr_2, ctr_3, equal_var=False)\n",
    "base_test"
   ]
  },
  {
   "cell_type": "markdown",
   "id": "34e59cb8-80c0-48c8-9c0e-00e055b07740",
   "metadata": {},
   "source": [
    "<b>Т-тест говорит о том, что не найдено статистически знаимых различий между средними значениями групп 2 и 3</b>"
   ]
  },
  {
   "cell_type": "markdown",
   "id": "6e759c0e-74b4-4eb6-bb5a-014b0e6b6865",
   "metadata": {},
   "source": [
    "Мы убедились, что подвоха в данных нет, и имеет смысл счиать Т-кретерий случайных выборок."
   ]
  },
  {
   "cell_type": "markdown",
   "id": "47cf1edf-7f43-4b30-b927-4df1740b96fb",
   "metadata": {},
   "source": [
    "-----------------------"
   ]
  },
  {
   "cell_type": "markdown",
   "id": "2cc9ebc5-0813-4094-bedb-59a22e4ffcf0",
   "metadata": {},
   "source": [
    "Вам нужно сделать симуляцию, как будто мы провели 10000 А/А-тестов. На каждой итерации вам нужно сформировать подвыборки без повторения в 500 юзеров из 2 и 3 экспериментальной группы. Провести сравнение этих подвыборок t-testом.\n",
    "\n"
   ]
  },
  {
   "cell_type": "code",
   "execution_count": 58,
   "id": "f73b8353-e07d-4097-bacf-2882f2046bf6",
   "metadata": {},
   "outputs": [],
   "source": [
    "# напишем класс-калькулятор для данного задания\n",
    "\n",
    "class SimulatorAAtest():\n",
    "    \n",
    "    def __init__(self):\n",
    "        self.results = []\n",
    "    \n",
    "    def __call__(self, groups:tuple, n=10000, n_users=500):\n",
    "        group1, group2 = groups\n",
    "        start_time = time.time()\n",
    "        for _ in range(n):\n",
    "            group1_sample = group1.sample(n_users)\n",
    "            group2_sample = group2.sample(n_users)\n",
    "            self.results.append(ttest_ind(group1_sample, group2_sample).pvalue)\n",
    "        print(f'Проведено {n} АА тестов\\nЗатрачено {round(time.time() - start_time, 2)} sec.')\n",
    "        print('<object>.get_results() для получения результатов')\n",
    "    \n",
    "    def get_results(self):\n",
    "        return pd.DataFrame(data = self.results, columns=['p-value'])"
   ]
  },
  {
   "cell_type": "code",
   "execution_count": 59,
   "id": "153c0ef9-edf5-4d60-b62f-7827bc03ff3d",
   "metadata": {},
   "outputs": [
    {
     "name": "stdout",
     "output_type": "stream",
     "text": [
      "Проведено 10000 АА тестов\n",
      "Затрачено 15.82 sec.\n",
      "<object>.get_results() для получения результатов\n"
     ]
    }
   ],
   "source": [
    "simulation1 = SimulatorAAtest()\n",
    "simulation1((ctr_2, ctr_3))"
   ]
  },
  {
   "cell_type": "code",
   "execution_count": 63,
   "id": "5ca99ce5-333d-41b0-9a02-432a6ab9c366",
   "metadata": {},
   "outputs": [
    {
     "data": {
      "text/html": [
       "<div>\n",
       "<style scoped>\n",
       "    .dataframe tbody tr th:only-of-type {\n",
       "        vertical-align: middle;\n",
       "    }\n",
       "\n",
       "    .dataframe tbody tr th {\n",
       "        vertical-align: top;\n",
       "    }\n",
       "\n",
       "    .dataframe thead th {\n",
       "        text-align: right;\n",
       "    }\n",
       "</style>\n",
       "<table border=\"1\" class=\"dataframe\">\n",
       "  <thead>\n",
       "    <tr style=\"text-align: right;\">\n",
       "      <th></th>\n",
       "      <th>p-value</th>\n",
       "    </tr>\n",
       "  </thead>\n",
       "  <tbody>\n",
       "    <tr>\n",
       "      <th>0</th>\n",
       "      <td>0.924386</td>\n",
       "    </tr>\n",
       "    <tr>\n",
       "      <th>1</th>\n",
       "      <td>0.543482</td>\n",
       "    </tr>\n",
       "    <tr>\n",
       "      <th>2</th>\n",
       "      <td>0.686407</td>\n",
       "    </tr>\n",
       "    <tr>\n",
       "      <th>3</th>\n",
       "      <td>0.768379</td>\n",
       "    </tr>\n",
       "    <tr>\n",
       "      <th>4</th>\n",
       "      <td>0.527988</td>\n",
       "    </tr>\n",
       "  </tbody>\n",
       "</table>\n",
       "</div>"
      ],
      "text/plain": [
       "    p-value\n",
       "0  0.924386\n",
       "1  0.543482\n",
       "2  0.686407\n",
       "3  0.768379\n",
       "4  0.527988"
      ]
     },
     "execution_count": 63,
     "metadata": {},
     "output_type": "execute_result"
    }
   ],
   "source": [
    "res = simulation1.get_results()\n",
    "res.head()"
   ]
  },
  {
   "cell_type": "code",
   "execution_count": 64,
   "id": "0fca4813-6ecb-4940-81c5-ce5ed2a4c573",
   "metadata": {},
   "outputs": [
    {
     "data": {
      "text/html": [
       "<div>\n",
       "<style scoped>\n",
       "    .dataframe tbody tr th:only-of-type {\n",
       "        vertical-align: middle;\n",
       "    }\n",
       "\n",
       "    .dataframe tbody tr th {\n",
       "        vertical-align: top;\n",
       "    }\n",
       "\n",
       "    .dataframe thead th {\n",
       "        text-align: right;\n",
       "    }\n",
       "</style>\n",
       "<table border=\"1\" class=\"dataframe\">\n",
       "  <thead>\n",
       "    <tr style=\"text-align: right;\">\n",
       "      <th></th>\n",
       "      <th>p-value</th>\n",
       "    </tr>\n",
       "  </thead>\n",
       "  <tbody>\n",
       "    <tr>\n",
       "      <th>count</th>\n",
       "      <td>10000.000000</td>\n",
       "    </tr>\n",
       "    <tr>\n",
       "      <th>mean</th>\n",
       "      <td>0.506585</td>\n",
       "    </tr>\n",
       "    <tr>\n",
       "      <th>std</th>\n",
       "      <td>0.288325</td>\n",
       "    </tr>\n",
       "    <tr>\n",
       "      <th>min</th>\n",
       "      <td>0.000020</td>\n",
       "    </tr>\n",
       "    <tr>\n",
       "      <th>25%</th>\n",
       "      <td>0.257978</td>\n",
       "    </tr>\n",
       "    <tr>\n",
       "      <th>50%</th>\n",
       "      <td>0.511075</td>\n",
       "    </tr>\n",
       "    <tr>\n",
       "      <th>75%</th>\n",
       "      <td>0.754951</td>\n",
       "    </tr>\n",
       "    <tr>\n",
       "      <th>max</th>\n",
       "      <td>0.999965</td>\n",
       "    </tr>\n",
       "  </tbody>\n",
       "</table>\n",
       "</div>"
      ],
      "text/plain": [
       "            p-value\n",
       "count  10000.000000\n",
       "mean       0.506585\n",
       "std        0.288325\n",
       "min        0.000020\n",
       "25%        0.257978\n",
       "50%        0.511075\n",
       "75%        0.754951\n",
       "max        0.999965"
      ]
     },
     "execution_count": 64,
     "metadata": {},
     "output_type": "execute_result"
    }
   ],
   "source": [
    "res.describe()"
   ]
  },
  {
   "cell_type": "markdown",
   "id": "0f871f89-40b7-4cb9-940f-67ca1f6fd69f",
   "metadata": {},
   "source": [
    "----------"
   ]
  },
  {
   "cell_type": "markdown",
   "id": "af5bd122-dd87-4fba-a43f-d4e5710642b1",
   "metadata": {},
   "source": [
    "<b> Идем дальше по списку задач </b>\n",
    ">Построить гистограмму распределения получившихся 10000 p-values.\n",
    "\n",
    ">Посчитать, какой процент p values оказался меньше либо равен 0.05\n",
    "\n",
    ">Написать вывод по проведенному А/А-тесту, корректно ли работает наша система сплитования.\n",
    "\n",
    ">Пришлите ссылку на merge request c проведенным анализом."
   ]
  },
  {
   "cell_type": "code",
   "execution_count": 83,
   "id": "91de1faa-ea5e-4b6f-a410-995dd36aaf40",
   "metadata": {},
   "outputs": [
    {
     "data": {
      "text/plain": [
       "<Axes: ylabel='Count'>"
      ]
     },
     "execution_count": 83,
     "metadata": {},
     "output_type": "execute_result"
    },
    {
     "data": {
      "image/png": "[encoded data removed]",
      "text/plain": [
       "<Figure size 864x720 with 1 Axes>"
      ]
     },
     "metadata": {},
     "output_type": "display_data"
    }
   ],
   "source": [
    "# Построить гистограмму распределения получившихся 10000 p-values.\n",
    "plot = sns.histplot(res, binwidth=0.05)\n",
    "plot.set_xticks([x/100 for x in range(0, 100, 5)])\n",
    "plot"
   ]
  },
  {
   "cell_type": "code",
   "execution_count": 99,
   "id": "ae370920-ebc2-4b3a-9bac-baac460731a9",
   "metadata": {},
   "outputs": [],
   "source": [
    "# Посчитать, какой процент p values оказался меньше либо равен 0.05\n",
    "\n",
    "p_values_proc = res[res >= 0.05].isna().sum()/res.count()\n",
    "p_values_proc = p_values_proc * 100"
   ]
  },
  {
   "cell_type": "code",
   "execution_count": 104,
   "id": "a2c7cc4c-ba19-4f83-808d-a9dfc0c006ec",
   "metadata": {},
   "outputs": [
    {
     "data": {
      "text/plain": [
       "'4.61% сгенерированных Т - тестов показало значимые различия при уровне значимости p-value = 0,05'"
      ]
     },
     "execution_count": 104,
     "metadata": {},
     "output_type": "execute_result"
    }
   ],
   "source": [
    "\n",
    "f'{p_values_proc.values[0]}% сгенерированных Т - тестов показало значимые различия при уровне значимости p-value = 0,05'"
   ]
  },
  {
   "cell_type": "markdown",
   "id": "21fe84ad-597e-4812-811c-cd3db43f5938",
   "metadata": {},
   "source": [
    "> <b>Вывод: мы удостоверились в корректности работы системы сплитования. Заявленный уровень стат. значимости 0,05 подтверждается экспериментально при многократном моделировании повторения АА теста.</b>\n"
   ]
  },
  {
   "cell_type": "code",
   "execution_count": null,
   "id": "9c6863a9-91fd-460a-a11d-4f680464212a",
   "metadata": {},
   "outputs": [],
   "source": []
  }
 ],
 "metadata": {
  "kernelspec": {
   "display_name": "Python 3 (ipykernel)",
   "language": "python",
   "name": "python3"
  },
  "language_info": {
   "codemirror_mode": {
    "name": "ipython",
    "version": 3
   },
   "file_extension": ".py",
   "mimetype": "text/x-python",
   "name": "python",
   "nbconvert_exporter": "python",
   "pygments_lexer": "ipython3",
   "version": "3.8.10"
  }
 },
 "nbformat": 4,
 "nbformat_minor": 5
}
