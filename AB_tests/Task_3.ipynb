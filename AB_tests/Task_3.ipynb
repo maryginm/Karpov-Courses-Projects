{
 "cells": [
  {
   "cell_type": "code",
   "execution_count": 85,
   "id": "78e5a8a3-735d-49d1-a5e6-724a792cfa9a",
   "metadata": {},
   "outputs": [],
   "source": [
    "import pandas as pd\n",
    "import numpy as np\n",
    "import seaborn as sns\n",
    "import matplotlib.pyplot as plt\n",
    "import pandahouse\n",
    "from scipy.stats import ttest_ind"
   ]
  },
  {
   "cell_type": "code",
   "execution_count": 86,
   "id": "d9167831-e191-4caf-a539-46848caae199",
   "metadata": {},
   "outputs": [],
   "source": [
    "# Тянем интересующий фрейм из кликхауса прямым запросом\n",
    "connection = {\n",
    "    'host': 'https://clickhouse',\n",
    "    'password': 'pass',\n",
    "    'user': 'user',\n",
    "    'database': 'db'\n",
    "}\n",
    "\n",
    "q = '''\n",
    "SELECT \n",
    "user_id,\n",
    "exp_group,\n",
    "countIf(action, action='like') as likes,\n",
    "countIf(action, action='view') as views,\n",
    "countIf(action, action='like')/countIf(action, action='view') as CTR\n",
    "\n",
    "FROM simulator_20230820.feed_actions \n",
    "WHERE \n",
    "toDate(time) >= '2023-07-30' and toDate(time) <= '2023-08-05'\n",
    "GROUP BY\n",
    "user_id, exp_group\n",
    "'''\n",
    "\n",
    "df_users = pandahouse.read_clickhouse(q, connection=connection) "
   ]
  },
  {
   "cell_type": "code",
   "execution_count": 87,
   "id": "d769c82a-14a8-4ce0-a3d0-95dd8e4fa85f",
   "metadata": {},
   "outputs": [
    {
     "data": {
      "text/html": [
       "<div>\n",
       "<style scoped>\n",
       "    .dataframe tbody tr th:only-of-type {\n",
       "        vertical-align: middle;\n",
       "    }\n",
       "\n",
       "    .dataframe tbody tr th {\n",
       "        vertical-align: top;\n",
       "    }\n",
       "\n",
       "    .dataframe thead th {\n",
       "        text-align: right;\n",
       "    }\n",
       "</style>\n",
       "<table border=\"1\" class=\"dataframe\">\n",
       "  <thead>\n",
       "    <tr style=\"text-align: right;\">\n",
       "      <th></th>\n",
       "      <th>user_id</th>\n",
       "      <th>exp_group</th>\n",
       "      <th>likes</th>\n",
       "      <th>views</th>\n",
       "      <th>CTR</th>\n",
       "    </tr>\n",
       "  </thead>\n",
       "  <tbody>\n",
       "    <tr>\n",
       "      <th>0</th>\n",
       "      <td>18392</td>\n",
       "      <td>1</td>\n",
       "      <td>7</td>\n",
       "      <td>32</td>\n",
       "      <td>0.218750</td>\n",
       "    </tr>\n",
       "    <tr>\n",
       "      <th>1</th>\n",
       "      <td>115383</td>\n",
       "      <td>3</td>\n",
       "      <td>12</td>\n",
       "      <td>44</td>\n",
       "      <td>0.272727</td>\n",
       "    </tr>\n",
       "    <tr>\n",
       "      <th>2</th>\n",
       "      <td>123580</td>\n",
       "      <td>3</td>\n",
       "      <td>2</td>\n",
       "      <td>11</td>\n",
       "      <td>0.181818</td>\n",
       "    </tr>\n",
       "    <tr>\n",
       "      <th>3</th>\n",
       "      <td>131473</td>\n",
       "      <td>2</td>\n",
       "      <td>9</td>\n",
       "      <td>108</td>\n",
       "      <td>0.083333</td>\n",
       "    </tr>\n",
       "    <tr>\n",
       "      <th>4</th>\n",
       "      <td>107323</td>\n",
       "      <td>4</td>\n",
       "      <td>5</td>\n",
       "      <td>31</td>\n",
       "      <td>0.161290</td>\n",
       "    </tr>\n",
       "    <tr>\n",
       "      <th>...</th>\n",
       "      <td>...</td>\n",
       "      <td>...</td>\n",
       "      <td>...</td>\n",
       "      <td>...</td>\n",
       "      <td>...</td>\n",
       "    </tr>\n",
       "    <tr>\n",
       "      <th>49809</th>\n",
       "      <td>27030</td>\n",
       "      <td>0</td>\n",
       "      <td>12</td>\n",
       "      <td>64</td>\n",
       "      <td>0.187500</td>\n",
       "    </tr>\n",
       "    <tr>\n",
       "      <th>49810</th>\n",
       "      <td>122758</td>\n",
       "      <td>3</td>\n",
       "      <td>20</td>\n",
       "      <td>118</td>\n",
       "      <td>0.169492</td>\n",
       "    </tr>\n",
       "    <tr>\n",
       "      <th>49811</th>\n",
       "      <td>132567</td>\n",
       "      <td>1</td>\n",
       "      <td>52</td>\n",
       "      <td>326</td>\n",
       "      <td>0.159509</td>\n",
       "    </tr>\n",
       "    <tr>\n",
       "      <th>49812</th>\n",
       "      <td>122190</td>\n",
       "      <td>3</td>\n",
       "      <td>19</td>\n",
       "      <td>65</td>\n",
       "      <td>0.292308</td>\n",
       "    </tr>\n",
       "    <tr>\n",
       "      <th>49813</th>\n",
       "      <td>17310</td>\n",
       "      <td>2</td>\n",
       "      <td>9</td>\n",
       "      <td>82</td>\n",
       "      <td>0.109756</td>\n",
       "    </tr>\n",
       "  </tbody>\n",
       "</table>\n",
       "<p>49814 rows × 5 columns</p>\n",
       "</div>"
      ],
      "text/plain": [
       "       user_id  exp_group  likes  views       CTR\n",
       "0        18392          1      7     32  0.218750\n",
       "1       115383          3     12     44  0.272727\n",
       "2       123580          3      2     11  0.181818\n",
       "3       131473          2      9    108  0.083333\n",
       "4       107323          4      5     31  0.161290\n",
       "...        ...        ...    ...    ...       ...\n",
       "49809    27030          0     12     64  0.187500\n",
       "49810   122758          3     20    118  0.169492\n",
       "49811   132567          1     52    326  0.159509\n",
       "49812   122190          3     19     65  0.292308\n",
       "49813    17310          2      9     82  0.109756\n",
       "\n",
       "[49814 rows x 5 columns]"
      ]
     },
     "execution_count": 87,
     "metadata": {},
     "output_type": "execute_result"
    }
   ],
   "source": [
    "# Смотрим что вытянули\n",
    "\n",
    "df_users"
   ]
  },
  {
   "cell_type": "markdown",
   "id": "db454bf6-51ad-4664-9963-9b74088fa88c",
   "metadata": {},
   "source": [
    "<b>Задача</b>\n",
    "\n",
    "1. Проанализируйте тест между группами 0 и 3 по метрике линеаризованных лайков. Видно ли отличие? Стало ли 𝑝−𝑣𝑎𝑙𝑢𝑒 меньше?\n",
    "2. Проанализируйте тест между группами 1 и 2 по метрике линеаризованных лайков. Видно ли отличие? Стало ли 𝑝−𝑣𝑎𝑙𝑢𝑒 меньше?"
   ]
  },
  {
   "cell_type": "code",
   "execution_count": 88,
   "id": "169041a7-9fcb-4943-b1fa-a23eb3f21560",
   "metadata": {},
   "outputs": [],
   "source": [
    "group_0 = df_users[df_users['exp_group'] == 0]\n",
    "group_1 = df_users[df_users['exp_group'] == 1]\n",
    "group_2 = df_users[df_users['exp_group'] == 2]\n",
    "group_3 = df_users[df_users['exp_group'] == 3]\n",
    "group_0.name = 'Группа 0'\n",
    "group_1.name = 'Группа 1'\n",
    "group_2.name = 'Группа 2'\n",
    "group_3.name = 'Группа 3'"
   ]
  },
  {
   "cell_type": "code",
   "execution_count": 89,
   "id": "4a130a32-a578-459e-8321-7edbda1e99d7",
   "metadata": {},
   "outputs": [],
   "source": [
    "# Сразу делаем большие графики\n",
    "sns.set (rc={\"figure.figsize\":( 12 , 10 )})"
   ]
  },
  {
   "cell_type": "markdown",
   "id": "5912b1b8-e9f4-4a4f-a353-c50a52310c05",
   "metadata": {},
   "source": [
    "---------------------"
   ]
  },
  {
   "cell_type": "markdown",
   "id": "f92cd09e-35e0-4daf-87f8-4ddd0ef267df",
   "metadata": {},
   "source": [
    "<h4> Проведем классический Т-тест между группами 0 и 3 а также 1 и 2</h4>"
   ]
  },
  {
   "cell_type": "code",
   "execution_count": 90,
   "id": "b1da7729-78e1-441b-9288-85e6f1c4cad9",
   "metadata": {},
   "outputs": [
    {
     "data": {
      "image/png": "[encoded data removed]",
      "text/plain": [
       "<Figure size 864x720 with 1 Axes>"
      ]
     },
     "metadata": {},
     "output_type": "display_data"
    }
   ],
   "source": [
    "# Посмотрим на группы 0 и 3\n",
    "sns.histplot(data=df_users[df_users['exp_group'].isin((0, 3))], x='CTR', hue='exp_group')\n",
    "plt.show()"
   ]
  },
  {
   "cell_type": "code",
   "execution_count": 91,
   "id": "c752d07b-be6c-42e6-9680-4a2646b739a0",
   "metadata": {},
   "outputs": [
    {
     "data": {
      "text/plain": [
       "Ttest_indResult(statistic=-13.933648837791845, pvalue=6.360547724658604e-44)"
      ]
     },
     "execution_count": 91,
     "metadata": {},
     "output_type": "execute_result"
    }
   ],
   "source": [
    "# Т-тест групп 0 и 3\n",
    "\n",
    "result_0_3 = ttest_ind(group_0['CTR'], group_3['CTR'])\n",
    "result_0_3"
   ]
  },
  {
   "cell_type": "code",
   "execution_count": 92,
   "id": "20b7ca2d-dba8-4e4e-b28a-1ac9d4d72d29",
   "metadata": {},
   "outputs": [
    {
     "data": {
      "image/png": "[encoded data removed]",
      "text/plain": [
       "<Figure size 864x720 with 1 Axes>"
      ]
     },
     "metadata": {},
     "output_type": "display_data"
    }
   ],
   "source": [
    "# Посмотрим на группы 1 и 2\n",
    "sns.histplot(data=df_users[df_users['exp_group'].isin((1, 2))], x='CTR', hue='exp_group')\n",
    "plt.show()"
   ]
  },
  {
   "cell_type": "code",
   "execution_count": 93,
   "id": "2319beaa-ee16-4cc3-b42d-179cbb16a92e",
   "metadata": {},
   "outputs": [
    {
     "data": {
      "text/plain": [
       "Ttest_indResult(statistic=0.4065949741045715, pvalue=0.6843098628062774)"
      ]
     },
     "execution_count": 93,
     "metadata": {},
     "output_type": "execute_result"
    }
   ],
   "source": [
    "# Т-тест групп 1 и 2\n",
    "\n",
    "result_1_2 = ttest_ind(group_1['CTR'], group_2['CTR'])\n",
    "result_1_2"
   ]
  },
  {
   "cell_type": "code",
   "execution_count": 94,
   "id": "9a6a1372-1626-4137-8a5f-a953be76f03a",
   "metadata": {},
   "outputs": [],
   "source": [
    "# Итоговый сравнительный отчет уровня значимости\n",
    "\n",
    "result_frame = pd.DataFrame((result_0_3, result_1_2), index=['0-3: classic T', '1-2: classic T'])"
   ]
  },
  {
   "cell_type": "code",
   "execution_count": 95,
   "id": "a623f46b-f7cc-404a-a5c4-8d0ef11eed2e",
   "metadata": {},
   "outputs": [
    {
     "data": {
      "text/html": [
       "<div>\n",
       "<style scoped>\n",
       "    .dataframe tbody tr th:only-of-type {\n",
       "        vertical-align: middle;\n",
       "    }\n",
       "\n",
       "    .dataframe tbody tr th {\n",
       "        vertical-align: top;\n",
       "    }\n",
       "\n",
       "    .dataframe thead th {\n",
       "        text-align: right;\n",
       "    }\n",
       "</style>\n",
       "<table border=\"1\" class=\"dataframe\">\n",
       "  <thead>\n",
       "    <tr style=\"text-align: right;\">\n",
       "      <th></th>\n",
       "      <th>statistic</th>\n",
       "      <th>pvalue</th>\n",
       "    </tr>\n",
       "  </thead>\n",
       "  <tbody>\n",
       "    <tr>\n",
       "      <th>0-3: classic T</th>\n",
       "      <td>-13.933649</td>\n",
       "      <td>6.360548e-44</td>\n",
       "    </tr>\n",
       "    <tr>\n",
       "      <th>1-2: classic T</th>\n",
       "      <td>0.406595</td>\n",
       "      <td>6.843099e-01</td>\n",
       "    </tr>\n",
       "  </tbody>\n",
       "</table>\n",
       "</div>"
      ],
      "text/plain": [
       "                statistic        pvalue\n",
       "0-3: classic T -13.933649  6.360548e-44\n",
       "1-2: classic T   0.406595  6.843099e-01"
      ]
     },
     "execution_count": 95,
     "metadata": {},
     "output_type": "execute_result"
    }
   ],
   "source": [
    "result_frame"
   ]
  },
  {
   "cell_type": "markdown",
   "id": "9d89f6fe-fd92-42f1-9a32-73ba382b9450",
   "metadata": {},
   "source": [
    "------------------"
   ]
  },
  {
   "cell_type": "code",
   "execution_count": 110,
   "id": "a81494ca-e971-45ca-a722-f984e5671a00",
   "metadata": {},
   "outputs": [],
   "source": [
    "# класс - преобразователь данных по методу линеаризованных лайков\n",
    "\n",
    "class MyLinearized:\n",
    "    def __init__(self):\n",
    "        self.data_test = None\n",
    "        self.data_control = None\n",
    "        self.data_out = []\n",
    "    \n",
    "    def __repr__(self):\n",
    "        return f'''Linearized преобразование:\n",
    "        Входные данные: {[x.name for x in self.data]}'''\n",
    "    \n",
    "    \n",
    "    def load_data(self, data_test, data_control):\n",
    "        self.data_test = data_test.copy()\n",
    "        self.data_control = data_control.copy()\n",
    "        \n",
    "    def transform(self):\n",
    "        global_ctr_control = sum(self.data_control['likes']) / sum(self.data_control['views'])\n",
    "        self.data_test['Linearized_likes'] = self.data_test['likes'] - self.data_test['views'] * global_ctr_control\n",
    "        self.data_control['Linearized_likes'] = self.data_control['likes'] - self.data_control['views'] * global_ctr_control\n",
    "        self.data_out.append(pd.concat([self.data_test, self.data_control]))\n",
    "        \n",
    "    def get_data(self):\n",
    "        return self.data_out"
   ]
  },
  {
   "cell_type": "code",
   "execution_count": 111,
   "id": "bc332f43-a546-4475-a43d-06d2e3427240",
   "metadata": {},
   "outputs": [],
   "source": [
    "# Создаем экземпляр преобразователя\n",
    "linear_me = MyLinearized()\n",
    "\n",
    "# Грузим данные 1 и 2\n",
    "linear_me.load_data(group_2, group_1)\n",
    "\n",
    "# Запускаем шарманку\n",
    "linear_me.transform()\n",
    "\n",
    "# Грузим данные 0 и 3\n",
    "linear_me.load_data(group_3, group_0)\n",
    "\n",
    "# Запускаем шарманку\n",
    "linear_me.transform()\n",
    "\n",
    "# Сохраняем итоги\n",
    "data_linearized_1_2 = linear_me.get_data()[0]\n",
    "data_linearized_0_3 = linear_me.get_data()[1]"
   ]
  },
  {
   "cell_type": "code",
   "execution_count": 118,
   "id": "7b7dc59c-7ef0-4d0c-bff4-28130ee70ff7",
   "metadata": {},
   "outputs": [
    {
     "data": {
      "text/html": [
       "<div>\n",
       "<style scoped>\n",
       "    .dataframe tbody tr th:only-of-type {\n",
       "        vertical-align: middle;\n",
       "    }\n",
       "\n",
       "    .dataframe tbody tr th {\n",
       "        vertical-align: top;\n",
       "    }\n",
       "\n",
       "    .dataframe thead th {\n",
       "        text-align: right;\n",
       "    }\n",
       "</style>\n",
       "<table border=\"1\" class=\"dataframe\">\n",
       "  <thead>\n",
       "    <tr style=\"text-align: right;\">\n",
       "      <th></th>\n",
       "      <th>user_id</th>\n",
       "      <th>exp_group</th>\n",
       "      <th>likes</th>\n",
       "      <th>views</th>\n",
       "      <th>CTR</th>\n",
       "      <th>Linearized_likes</th>\n",
       "    </tr>\n",
       "  </thead>\n",
       "  <tbody>\n",
       "    <tr>\n",
       "      <th>3</th>\n",
       "      <td>131473</td>\n",
       "      <td>2</td>\n",
       "      <td>9</td>\n",
       "      <td>108</td>\n",
       "      <td>0.083333</td>\n",
       "      <td>-13.637250</td>\n",
       "    </tr>\n",
       "    <tr>\n",
       "      <th>5</th>\n",
       "      <td>32420</td>\n",
       "      <td>2</td>\n",
       "      <td>13</td>\n",
       "      <td>44</td>\n",
       "      <td>0.295455</td>\n",
       "      <td>3.777417</td>\n",
       "    </tr>\n",
       "    <tr>\n",
       "      <th>6</th>\n",
       "      <td>24239</td>\n",
       "      <td>2</td>\n",
       "      <td>40</td>\n",
       "      <td>90</td>\n",
       "      <td>0.444444</td>\n",
       "      <td>21.135625</td>\n",
       "    </tr>\n",
       "    <tr>\n",
       "      <th>16</th>\n",
       "      <td>118619</td>\n",
       "      <td>2</td>\n",
       "      <td>8</td>\n",
       "      <td>65</td>\n",
       "      <td>0.123077</td>\n",
       "      <td>-5.624271</td>\n",
       "    </tr>\n",
       "    <tr>\n",
       "      <th>19</th>\n",
       "      <td>10098</td>\n",
       "      <td>2</td>\n",
       "      <td>3</td>\n",
       "      <td>9</td>\n",
       "      <td>0.333333</td>\n",
       "      <td>1.113563</td>\n",
       "    </tr>\n",
       "  </tbody>\n",
       "</table>\n",
       "</div>"
      ],
      "text/plain": [
       "    user_id  exp_group  likes  views       CTR  Linearized_likes\n",
       "3    131473          2      9    108  0.083333        -13.637250\n",
       "5     32420          2     13     44  0.295455          3.777417\n",
       "6     24239          2     40     90  0.444444         21.135625\n",
       "16   118619          2      8     65  0.123077         -5.624271\n",
       "19    10098          2      3      9  0.333333          1.113563"
      ]
     },
     "execution_count": 118,
     "metadata": {},
     "output_type": "execute_result"
    }
   ],
   "source": [
    "# Смотрим что вышло\n",
    "data_linearized_1_2.head()"
   ]
  },
  {
   "cell_type": "code",
   "execution_count": 119,
   "id": "5930e7d5-d5f2-4d4c-bca9-26e1c8e43edf",
   "metadata": {},
   "outputs": [
    {
     "data": {
      "text/html": [
       "<div>\n",
       "<style scoped>\n",
       "    .dataframe tbody tr th:only-of-type {\n",
       "        vertical-align: middle;\n",
       "    }\n",
       "\n",
       "    .dataframe tbody tr th {\n",
       "        vertical-align: top;\n",
       "    }\n",
       "\n",
       "    .dataframe thead th {\n",
       "        text-align: right;\n",
       "    }\n",
       "</style>\n",
       "<table border=\"1\" class=\"dataframe\">\n",
       "  <thead>\n",
       "    <tr style=\"text-align: right;\">\n",
       "      <th></th>\n",
       "      <th>user_id</th>\n",
       "      <th>exp_group</th>\n",
       "      <th>likes</th>\n",
       "      <th>views</th>\n",
       "      <th>CTR</th>\n",
       "      <th>Linearized_likes</th>\n",
       "    </tr>\n",
       "  </thead>\n",
       "  <tbody>\n",
       "    <tr>\n",
       "      <th>1</th>\n",
       "      <td>115383</td>\n",
       "      <td>3</td>\n",
       "      <td>12</td>\n",
       "      <td>44</td>\n",
       "      <td>0.272727</td>\n",
       "      <td>2.767128</td>\n",
       "    </tr>\n",
       "    <tr>\n",
       "      <th>2</th>\n",
       "      <td>123580</td>\n",
       "      <td>3</td>\n",
       "      <td>2</td>\n",
       "      <td>11</td>\n",
       "      <td>0.181818</td>\n",
       "      <td>-0.308218</td>\n",
       "    </tr>\n",
       "    <tr>\n",
       "      <th>9</th>\n",
       "      <td>118359</td>\n",
       "      <td>3</td>\n",
       "      <td>7</td>\n",
       "      <td>38</td>\n",
       "      <td>0.184211</td>\n",
       "      <td>-0.973844</td>\n",
       "    </tr>\n",
       "    <tr>\n",
       "      <th>12</th>\n",
       "      <td>16699</td>\n",
       "      <td>3</td>\n",
       "      <td>6</td>\n",
       "      <td>16</td>\n",
       "      <td>0.375000</td>\n",
       "      <td>2.642592</td>\n",
       "    </tr>\n",
       "    <tr>\n",
       "      <th>14</th>\n",
       "      <td>138445</td>\n",
       "      <td>3</td>\n",
       "      <td>18</td>\n",
       "      <td>93</td>\n",
       "      <td>0.193548</td>\n",
       "      <td>-1.514933</td>\n",
       "    </tr>\n",
       "  </tbody>\n",
       "</table>\n",
       "</div>"
      ],
      "text/plain": [
       "    user_id  exp_group  likes  views       CTR  Linearized_likes\n",
       "1    115383          3     12     44  0.272727          2.767128\n",
       "2    123580          3      2     11  0.181818         -0.308218\n",
       "9    118359          3      7     38  0.184211         -0.973844\n",
       "12    16699          3      6     16  0.375000          2.642592\n",
       "14   138445          3     18     93  0.193548         -1.514933"
      ]
     },
     "execution_count": 119,
     "metadata": {},
     "output_type": "execute_result"
    }
   ],
   "source": [
    "data_linearized_0_3.head()"
   ]
  },
  {
   "cell_type": "code",
   "execution_count": 120,
   "id": "8a02c4cd-4777-4d9c-95b2-eeff8fc20c8e",
   "metadata": {},
   "outputs": [
    {
     "data": {
      "image/png": "[encoded data removed]",
      "text/plain": [
       "<Figure size 864x720 with 1 Axes>"
      ]
     },
     "metadata": {},
     "output_type": "display_data"
    }
   ],
   "source": [
    "# Посмотрим на лин. лайки группы 0 и 3\n",
    "sns.histplot(data=data_linearized_0_3, x='Linearized_likes', hue='exp_group')\n",
    "plt.show()"
   ]
  },
  {
   "cell_type": "code",
   "execution_count": 121,
   "id": "98ba0850-be67-40ca-8578-35439908416d",
   "metadata": {},
   "outputs": [
    {
     "data": {
      "image/png": "[encoded data removed]",
      "text/plain": [
       "<Figure size 864x720 with 1 Axes>"
      ]
     },
     "metadata": {},
     "output_type": "display_data"
    }
   ],
   "source": [
    "# Посмотрим на лин. лайки группы 1 и 2\n",
    "sns.histplot(data=data_linearized_1_2, x='Linearized_likes', hue='exp_group')\n",
    "plt.show()"
   ]
  },
  {
   "cell_type": "code",
   "execution_count": 122,
   "id": "f8df58e1-6e09-4e2b-ba6c-ba40cdb4e204",
   "metadata": {},
   "outputs": [],
   "source": [
    "# разобьем по группам\n",
    "group_0_lin = data_linearized_0_3[data_linearized_0_3['exp_group'] == 0]\n",
    "group_1_lin = data_linearized_1_2[data_linearized_1_2['exp_group'] == 1]\n",
    "group_2_lin = data_linearized_1_2[data_linearized_1_2['exp_group'] == 2]\n",
    "group_3_lin = data_linearized_0_3[data_linearized_0_3['exp_group'] == 3]"
   ]
  },
  {
   "cell_type": "code",
   "execution_count": 126,
   "id": "9aad737a-23e5-4b5a-b3ca-98aee9ff9ae4",
   "metadata": {},
   "outputs": [],
   "source": [
    "# Т-тест групп 1 и 2\n",
    "\n",
    "result_1_2_lin = ttest_ind(group_1_lin['Linearized_likes'], group_2_lin['Linearized_likes'])\n",
    "result_1_2_lin\n",
    "\n",
    "# Т-тест групп 0 и 3\n",
    "\n",
    "result_0_3_lin = ttest_ind(group_0_lin['Linearized_likes'], group_3_lin['Linearized_likes'])\n",
    "result_0_3_lin\n",
    "\n",
    "# Вносим все в финальный отчет\n",
    "final_report = pd.concat([result_frame, pd.DataFrame([result_0_3_lin, result_1_2_lin], index = ['0-3: linearized likes T', '1-2: linearized likes T'])])"
   ]
  },
  {
   "cell_type": "code",
   "execution_count": 127,
   "id": "4b320c70-ff34-498c-b753-45f50b6f5a41",
   "metadata": {},
   "outputs": [
    {
     "data": {
      "text/html": [
       "<div>\n",
       "<style scoped>\n",
       "    .dataframe tbody tr th:only-of-type {\n",
       "        vertical-align: middle;\n",
       "    }\n",
       "\n",
       "    .dataframe tbody tr th {\n",
       "        vertical-align: top;\n",
       "    }\n",
       "\n",
       "    .dataframe thead th {\n",
       "        text-align: right;\n",
       "    }\n",
       "</style>\n",
       "<table border=\"1\" class=\"dataframe\">\n",
       "  <thead>\n",
       "    <tr style=\"text-align: right;\">\n",
       "      <th></th>\n",
       "      <th>statistic</th>\n",
       "      <th>pvalue</th>\n",
       "    </tr>\n",
       "  </thead>\n",
       "  <tbody>\n",
       "    <tr>\n",
       "      <th>0-3: classic T</th>\n",
       "      <td>-13.933649</td>\n",
       "      <td>6.360548e-44</td>\n",
       "    </tr>\n",
       "    <tr>\n",
       "      <th>1-2: classic T</th>\n",
       "      <td>0.406595</td>\n",
       "      <td>6.843099e-01</td>\n",
       "    </tr>\n",
       "    <tr>\n",
       "      <th>0-3: linearized likes T</th>\n",
       "      <td>-16.186959</td>\n",
       "      <td>1.474003e-58</td>\n",
       "    </tr>\n",
       "    <tr>\n",
       "      <th>1-2: linearized likes T</th>\n",
       "      <td>5.962012</td>\n",
       "      <td>2.533570e-09</td>\n",
       "    </tr>\n",
       "  </tbody>\n",
       "</table>\n",
       "</div>"
      ],
      "text/plain": [
       "                         statistic        pvalue\n",
       "0-3: classic T          -13.933649  6.360548e-44\n",
       "1-2: classic T            0.406595  6.843099e-01\n",
       "0-3: linearized likes T -16.186959  1.474003e-58\n",
       "1-2: linearized likes T   5.962012  2.533570e-09"
      ]
     },
     "execution_count": 127,
     "metadata": {},
     "output_type": "execute_result"
    }
   ],
   "source": [
    "# Смотрим что вышло\n",
    "final_report"
   ]
  },
  {
   "cell_type": "markdown",
   "id": "1ba60398-d298-4a61-bc88-16b7ca8314f9",
   "metadata": {},
   "source": [
    "<h4>Выводы:</h4>\n",
    "\n",
    ">1. На наборах данных 0 - 3 классический Т-тест находил стат. значимые отличия. После линеаризации лайков, p - value еще сильнее уменьшился, показав еще значимеей различия. Интересно, что характер изменения можно посмотреть по знаку среднего значения."
   ]
  },
  {
   "cell_type": "code",
   "execution_count": 131,
   "id": "4daba729-9634-4020-88a1-c6d82a222f4c",
   "metadata": {},
   "outputs": [
    {
     "data": {
      "text/plain": [
       "1.0948439641134204"
      ]
     },
     "execution_count": 131,
     "metadata": {},
     "output_type": "execute_result"
    }
   ],
   "source": [
    "# Положительное значение - улучшающий характер изменения от контрольной группы\n",
    "group_3_lin['Linearized_likes'].mean()"
   ]
  },
  {
   "cell_type": "markdown",
   "id": "c6b08492-73cf-44a9-bd8a-9d6fb79dfe2b",
   "metadata": {},
   "source": [
    ">2. На наборах данных 1 - 2 классический Т-тест не находил стат. значимые различия. После линеаризации лайков, p - value опустился на 8 порядков и показал стат. значимые различия. Характер изменения можно посмотреть по знаку среднего значения тестовой группы."
   ]
  },
  {
   "cell_type": "code",
   "execution_count": 132,
   "id": "04ebe4e9-5c35-4264-872c-7183c24a577c",
   "metadata": {},
   "outputs": [
    {
     "data": {
      "text/plain": [
       "-0.6245118559393541"
      ]
     },
     "execution_count": 132,
     "metadata": {},
     "output_type": "execute_result"
    }
   ],
   "source": [
    "# Отрицательное значение - ухудшающий характер изменения от контрольной группы\n",
    "group_2_lin['Linearized_likes'].mean()"
   ]
  },
  {
   "cell_type": "markdown",
   "id": "d4510777-b591-4f3e-b59c-95fa42270c24",
   "metadata": {},
   "source": [
    "-----------"
   ]
  },
  {
   "cell_type": "code",
   "execution_count": null,
   "id": "d34c605b-d63b-4478-822c-a01d70fdc19d",
   "metadata": {},
   "outputs": [],
   "source": []
  }
 ],
 "metadata": {
  "kernelspec": {
   "display_name": "Python 3 (ipykernel)",
   "language": "python",
   "name": "python3"
  },
  "language_info": {
   "codemirror_mode": {
    "name": "ipython",
    "version": 3
   },
   "file_extension": ".py",
   "mimetype": "text/x-python",
   "name": "python",
   "nbconvert_exporter": "python",
   "pygments_lexer": "ipython3",
   "version": "3.8.10"
  }
 },
 "nbformat": 4,
 "nbformat_minor": 5
}
